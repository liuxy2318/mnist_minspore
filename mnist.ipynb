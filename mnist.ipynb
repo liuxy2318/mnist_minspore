{
 "cells": [
  {
   "cell_type": "code",
   "execution_count": 1,
   "id": "10ac8c74",
   "metadata": {},
   "outputs": [],
   "source": [
    "import mindspore as ms\n",
    "import numpy as np\n",
    "from mindspore import nn\n",
    "from mindspore.dataset import vision, transforms\n",
    "from mindspore.dataset import MnistDataset\n",
    "import mindspore.context as context\n",
    "import mindspore.dataset as ds\n",
    "import mindspore.dataset.transforms.c_transforms as C\n",
    "import mindspore.dataset.vision.c_transforms as CV"
   ]
  },
  {
   "cell_type": "code",
   "execution_count": 2,
   "id": "b97de4ab",
   "metadata": {},
   "outputs": [
    {
     "name": "stdout",
     "output_type": "stream",
     "text": [
      "Downloading data from https://mindspore-website.obs.cn-north-4.myhuaweicloud.com/notebook/datasets/MNIST_Data.zip (10.3 MB)\n",
      "\n",
      "file_sizes: 100%|███████████████████████████| 10.8M/10.8M [00:12<00:00, 837kB/s]\n",
      "Extracting zip file...\n",
      "Successfully downloaded / unzipped to ./\n"
     ]
    }
   ],
   "source": [
    "from download import download\n",
    "\n",
    "url = \"https://mindspore-website.obs.cn-north-4.myhuaweicloud.com/\" \\\n",
    "      \"notebook/datasets/MNIST_Data.zip\"\n",
    "path = download(url, \"./\", kind=\"zip\", replace=True)"
   ]
  },
  {
   "cell_type": "code",
   "execution_count": 3,
   "id": "0392ea49",
   "metadata": {},
   "outputs": [],
   "source": [
    "DATA_DIR_TRAIN = \"MNIST_Data/train\" # 训练集信息\n",
    "DATA_DIR_TEST = \"MNIST_Data/test\" # 测试集信息\n",
    "train_dataset = MnistDataset(DATA_DIR_TRAIN)\n",
    "test_dataset = MnistDataset(DATA_DIR_TEST)"
   ]
  },
  {
   "cell_type": "code",
   "execution_count": 4,
   "id": "f69f4c8b",
   "metadata": {},
   "outputs": [
    {
     "name": "stdout",
     "output_type": "stream",
     "text": [
      "训练数据集列名： ['image', 'label']\n",
      "测试数据集列名： ['image', 'label']\n",
      "图像长/宽/通道数： (28, 28, 1)\n",
      "一张图像的标签样式： 8\n"
     ]
    }
   ],
   "source": [
    "#显示数据集的相关特性\n",
    "print('训练数据集列名：',train_dataset.get_col_names())\n",
    "print('测试数据集列名：',test_dataset.get_col_names())\n",
    "image=train_dataset.create_dict_iterator().__next__()\n",
    "print('图像长/宽/通道数：',image['image'].shape)\n",
    "print('一张图像的标签样式：',image['label']) #一共 10 类，用 0-9 的数字表达类别。\n"
   ]
  },
  {
   "cell_type": "code",
   "execution_count": 5,
   "id": "202e3f75",
   "metadata": {},
   "outputs": [],
   "source": [
    "def datapipe(dataset, batch_size):\n",
    "    # Exercise 2: complete the image transformation process.\n",
    "    # Add your code here. \n",
    "    # 定义 Map 操作尺寸缩放，归一化和通道变换\n",
    "    rescale_op = vision.Rescale(1.0 / 255.0, 0)\n",
    "    normalize_op = vision.Normalize(mean=(0.1307,), std=(0.3081,))\n",
    "    hwc2chw_op = vision.HWC2CHW()\n",
    "    # 对数据集进行 map 操作\n",
    "    dataset = dataset.map(input_columns=\"image\", operations=[rescale_op,normalize_op, hwc2chw_op])\n",
    "    dataset = dataset.map(input_columns=\"label\", operations=transforms.TypeCast(ms.int32))\n",
    "    #设定 batchsize 大小\n",
    "    dataset = dataset.batch(batch_size, drop_remainder=True)\n",
    "    return dataset"
   ]
  },
  {
   "cell_type": "code",
   "execution_count": 6,
   "id": "1bb1eb7d",
   "metadata": {},
   "outputs": [],
   "source": [
    "train_dataset = datapipe(train_dataset, 64)\n",
    "test_dataset = datapipe(test_dataset, 64)"
   ]
  },
  {
   "cell_type": "code",
   "execution_count": 7,
   "id": "fb1bf9ee",
   "metadata": {},
   "outputs": [
    {
     "name": "stdout",
     "output_type": "stream",
     "text": [
      "(64, 1, 28, 28)\n",
      "图像长/宽/通道数： (64, 1, 28, 28)\n",
      "图像的标签类型： Int32\n"
     ]
    }
   ],
   "source": [
    "for image, label in test_dataset.create_tuple_iterator():\n",
    "    # Exercise 3: print the shape and data type of image and label for the first batch.\n",
    "    # Add your code here.\n",
    "    print(image.shape)\n",
    "    print('图像长/宽/通道数：',image.shape)\n",
    "    print('图像的标签类型：',label.dtype) #一共 10 类，用 0-9 的数字表达类别。\n",
    "    break"
   ]
  },
  {
   "cell_type": "code",
   "execution_count": 8,
   "id": "35381bbf",
   "metadata": {},
   "outputs": [
    {
     "name": "stdout",
     "output_type": "stream",
     "text": [
      "Network<\n",
      "  (flatten): Flatten<>\n",
      "  (dense_relu_sequential): SequentialCell<\n",
      "    (0): Dense<input_channels=784, output_channels=512, has_bias=True>\n",
      "    (1): ReLU<>\n",
      "    (2): Dense<input_channels=512, output_channels=512, has_bias=True>\n",
      "    (3): ReLU<>\n",
      "    (4): Dense<input_channels=512, output_channels=10, has_bias=True>\n",
      "    >\n",
      "  >\n"
     ]
    }
   ],
   "source": [
    "# Define model\n",
    "class Network(nn.Cell):\n",
    "    def __init__(self):\n",
    "        super().__init__()\n",
    "        self.flatten = nn.Flatten()\n",
    "        # Exercise 4：complete the network\n",
    "        # self.dense_relu_sequential = nn.SequentialCell(\n",
    "        # Add your code here.\n",
    "        # )\n",
    "        self.dense_relu_sequential = nn.SequentialCell(\n",
    "            nn.Dense(28*28, 512),\n",
    "            nn.ReLU(),\n",
    "            nn.Dense(512, 512),\n",
    "            nn.ReLU(),\n",
    "            nn.Dense(512, 10)\n",
    "        )\n",
    "\n",
    "    def construct(self, x):\n",
    "        x = self.flatten(x)\n",
    "        logits = self.dense_relu_sequential(x)\n",
    "        return logits\n",
    "\n",
    "model = Network()\n",
    "print(model)"
   ]
  },
  {
   "cell_type": "code",
   "execution_count": 9,
   "id": "ab9ab152",
   "metadata": {},
   "outputs": [],
   "source": [
    "loss_fn = nn.CrossEntropyLoss()\n",
    "optimizer = nn.SGD(model.trainable_params(), 1e-2)"
   ]
  },
  {
   "cell_type": "code",
   "execution_count": 10,
   "id": "a5ca01e9",
   "metadata": {},
   "outputs": [],
   "source": [
    "# Define forward function\n",
    "def forward_fn(data, label):\n",
    "    # Exercise 5.1: implement the forward function and ensure that it returns both the loss and logits.\n",
    "    # Add your code here.\n",
    "    logits = model(data)\n",
    "    loss = loss_fn(logits, label)\n",
    "    \n",
    "    return loss,logits\n",
    "\n",
    "\n",
    "# Get gradient function\n",
    "grad_fn = ms.value_and_grad(forward_fn,\n",
    "                                   None,\n",
    "                                   optimizer.parameters,\n",
    "                                   has_aux=True)\n",
    "\n",
    "\n",
    "# Define function of one-step training\n",
    "def train_step(data, label):\n",
    "    # Exercise 5.2: complete train step function to calculate gradients and optimize the model.\n",
    "    # The function should return the loss for current step.\n",
    "    # Add your code here.\n",
    "    (loss, _), grads = grad_fn(data, label)\n",
    "    optimizer(grads)\n",
    "    return loss\n",
    "\n",
    "\n",
    "def train(model, dataset):\n",
    "    size = dataset.get_dataset_size()\n",
    "    model.set_train()\n",
    "    for batch, (data, label) in enumerate(dataset.create_tuple_iterator()):\n",
    "        loss = train_step(data, label)\n",
    "\n",
    "        if batch % 100 == 0:\n",
    "            loss, current = loss.asnumpy(), batch\n",
    "            print(f\"loss: {loss:>7f}  [{current:>3d}/{size:>3d}]\")"
   ]
  },
  {
   "cell_type": "code",
   "execution_count": 11,
   "id": "5b48c0bc",
   "metadata": {},
   "outputs": [],
   "source": [
    "def test(model, dataset, loss_fn):\n",
    "    num_batches = dataset.get_dataset_size()\n",
    "    model.set_train(False)\n",
    "    total, test_loss, correct = 0, 0, 0\n",
    "    for data, label in dataset.create_tuple_iterator():\n",
    "        pred = model(data)\n",
    "        total += len(data)\n",
    "        # Exercise 6: complete the test fucntion to calculate average loss and accuracy.\n",
    "        # You need to define the following two variables.\n",
    "        # test_loss: loss for current step.\n",
    "        # correct: number of correct predictions for current step.\n",
    "        # Add your code here.\n",
    "        test_loss += loss_fn(pred, label).asnumpy()\n",
    "        correct += (pred.argmax(1) == label).asnumpy().sum()\n",
    "\n",
    "    test_loss /= num_batches\n",
    "    correct /= total\n",
    "    print(f\"Test: \\n Accuracy: {(100*correct):>0.1f}%, Avg loss: {test_loss:>8f} \\n\")"
   ]
  },
  {
   "cell_type": "code",
   "execution_count": 12,
   "id": "737074be",
   "metadata": {},
   "outputs": [
    {
     "name": "stdout",
     "output_type": "stream",
     "text": [
      "Epoch 1\n",
      "-------------------------------\n",
      "loss: 2.302857  [  0/937]\n",
      "loss: 2.289016  [100/937]\n",
      "loss: 2.262539  [200/937]\n",
      "loss: 2.179817  [300/937]\n",
      "loss: 1.991014  [400/937]\n",
      "loss: 1.494566  [500/937]\n",
      "loss: 0.909688  [600/937]\n",
      "loss: 0.701747  [700/937]\n",
      "loss: 0.553341  [800/937]\n",
      "loss: 0.620125  [900/937]\n",
      "Test: \n",
      " Accuracy: 84.7%, Avg loss: 0.537542 \n",
      "\n",
      "Epoch 2\n",
      "-------------------------------\n",
      "loss: 0.503181  [  0/937]\n",
      "loss: 0.485737  [100/937]\n",
      "loss: 0.428261  [200/937]\n",
      "loss: 0.349538  [300/937]\n",
      "loss: 0.451377  [400/937]\n",
      "loss: 0.335934  [500/937]\n",
      "loss: 0.345808  [600/937]\n",
      "loss: 0.491195  [700/937]\n",
      "loss: 0.244353  [800/937]\n",
      "loss: 0.350746  [900/937]\n",
      "Test: \n",
      " Accuracy: 89.8%, Avg loss: 0.344236 \n",
      "\n",
      "Epoch 3\n",
      "-------------------------------\n",
      "loss: 0.175925  [  0/937]\n",
      "loss: 0.363152  [100/937]\n",
      "loss: 0.527388  [200/937]\n",
      "loss: 0.517931  [300/937]\n",
      "loss: 0.334590  [400/937]\n",
      "loss: 0.700319  [500/937]\n",
      "loss: 0.243471  [600/937]\n",
      "loss: 0.426479  [700/937]\n",
      "loss: 0.253463  [800/937]\n",
      "loss: 0.312751  [900/937]\n",
      "Test: \n",
      " Accuracy: 92.0%, Avg loss: 0.276560 \n",
      "\n",
      "Done!\n"
     ]
    }
   ],
   "source": [
    "epochs = 3\n",
    "for t in range(epochs):\n",
    "    print(f\"Epoch {t+1}\\n-------------------------------\")\n",
    "    train(model, train_dataset)\n",
    "    test(model, test_dataset, loss_fn)\n",
    "print(\"Done!\")"
   ]
  },
  {
   "cell_type": "code",
   "execution_count": 13,
   "id": "34babfa8",
   "metadata": {},
   "outputs": [
    {
     "name": "stdout",
     "output_type": "stream",
     "text": [
      "Saved Model to model.ckpt\n"
     ]
    }
   ],
   "source": [
    "ms.save_checkpoint(model, \"model.ckpt\")\n",
    "print(\"Saved Model to model.ckpt\")"
   ]
  },
  {
   "cell_type": "code",
   "execution_count": null,
   "id": "71c1094d",
   "metadata": {},
   "outputs": [
    {
     "name": "stdout",
     "output_type": "stream",
     "text": [
      "[]\n"
     ]
    }
   ],
   "source": [
    "# Instantiate a random initialized model\n",
    "model = Network()\n",
    "# Load checkpoint and load parameter to model\n",
    "# Exercise 7.1: complete the process of loading checkpoint.\n",
    "# Exercise 7.2: check if the checkpoint has been successfully loaded by printing the output of load_param_into_net.\n",
    "# Add your code here.\n",
    "param_dict = ms.load_checkpoint(\"model.ckpt\")\n",
    "param_not_load, _ = ms.load_param_into_net(model, param_dict)\n",
    "print(param_not_load)"
   ]
  },
  {
   "cell_type": "code",
   "execution_count": null,
   "id": "58fc3004",
   "metadata": {},
   "outputs": [
    {
     "name": "stdout",
     "output_type": "stream",
     "text": [
      "Predicted: \"[1 3 1 8 3 2 0 8 1 2]\", Actual: \"[1 7 1 8 3 2 0 8 1 2]\"\n"
     ]
    }
   ],
   "source": [
    "model.set_train(False)\n",
    "for data, label in test_dataset:\n",
    "    pred = model(data)\n",
    "    # Exercise 8: complete the model inference process.\n",
    "    # Add your code here.\n",
    "    predicted = np.argmax(pred.asnumpy(), axis=1)\n",
    "    print(f'Predicted: \"{predicted[:10]}\", Actual: \"{label[:10]}\"')\n",
    "    break"
   ]
  },
  {
   "cell_type": "code",
   "execution_count": null,
   "id": "59b0dbf4",
   "metadata": {},
   "outputs": [],
   "source": []
  }
 ],
 "metadata": {
  "kernelspec": {
   "display_name": "Python 3 (ipykernel)",
   "language": "python",
   "name": "python3"
  },
  "language_info": {
   "codemirror_mode": {
    "name": "ipython",
    "version": 3
   },
   "file_extension": ".py",
   "mimetype": "text/x-python",
   "name": "python",
   "nbconvert_exporter": "python",
   "pygments_lexer": "ipython3",
   "version": "3.7.11"
  }
 },
 "nbformat": 4,
 "nbformat_minor": 5
}
